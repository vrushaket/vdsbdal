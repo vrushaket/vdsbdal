{
 "cells": [
  {
   "cell_type": "markdown",
   "id": "dca3ff53",
   "metadata": {},
   "source": [
    "Name: Vrushaket P. Chaudhari\n",
    "\n",
    "Roll No: 31305\n",
    "\n",
    "Class : TE-03\n",
    "\n",
    "Batch : K3\n",
    "\n",
    "Subject : DSBDAL\n",
    "\n",
    "Assignment : 3. Basic Statistics - Measures of Central Tendencies and Variance"
   ]
  },
  {
   "cell_type": "markdown",
   "id": "a362c2b4",
   "metadata": {},
   "source": [
    "## Basic Statistics - Measures of Central Tendencies and Variance\n",
    "Perform the following operations on any open source dataset (eg. data.csv)\n",
    "\n",
    "1. Provide summary statistics (mean, median, minimum, maximum, standard deviation) for a dataset (age, income etc.) with numeric variables grouped by one of the qualitative (categorical) variable. For example, if your categorical variable is age groups and quantitative variable is income, then provide summary statistics of income grouped by the age groups. Create a list that contains a numeric value for each response to the categorical variable.\n",
    "\n",
    "\n",
    "2. Write a Python program to display some basic statistical details like percentile, mean, standard deviation etc. of the species of ‘Iris-setosa’, ‘Iris-versicolor’ and ‘Iris-versicolor’ of iris.csv dataset."
   ]
  },
  {
   "cell_type": "markdown",
   "id": "2b7e97b5",
   "metadata": {},
   "source": [
    "### Import required libraries"
   ]
  },
  {
   "cell_type": "code",
   "execution_count": 21,
   "id": "cbb01f15",
   "metadata": {},
   "outputs": [],
   "source": [
    "import numpy as np                     \n",
    "import pandas as pd"
   ]
  },
  {
   "cell_type": "markdown",
   "id": "79c75a7c",
   "metadata": {},
   "source": [
    "### Load the Dataset into pandas data frame."
   ]
  },
  {
   "cell_type": "code",
   "execution_count": 22,
   "id": "e8638407",
   "metadata": {},
   "outputs": [],
   "source": [
    "from pandas import read_csv\n",
    "df = read_csv('datasets/nba.csv')"
   ]
  },
  {
   "cell_type": "code",
   "execution_count": 23,
   "id": "bfafbc7d",
   "metadata": {},
   "outputs": [
    {
     "data": {
      "text/html": [
       "<div>\n",
       "<style scoped>\n",
       "    .dataframe tbody tr th:only-of-type {\n",
       "        vertical-align: middle;\n",
       "    }\n",
       "\n",
       "    .dataframe tbody tr th {\n",
       "        vertical-align: top;\n",
       "    }\n",
       "\n",
       "    .dataframe thead th {\n",
       "        text-align: right;\n",
       "    }\n",
       "</style>\n",
       "<table border=\"1\" class=\"dataframe\">\n",
       "  <thead>\n",
       "    <tr style=\"text-align: right;\">\n",
       "      <th></th>\n",
       "      <th>Name</th>\n",
       "      <th>Team</th>\n",
       "      <th>Number</th>\n",
       "      <th>Position</th>\n",
       "      <th>Age</th>\n",
       "      <th>Height</th>\n",
       "      <th>Weight</th>\n",
       "      <th>College</th>\n",
       "      <th>Salary</th>\n",
       "    </tr>\n",
       "  </thead>\n",
       "  <tbody>\n",
       "    <tr>\n",
       "      <th>0</th>\n",
       "      <td>Avery Bradley</td>\n",
       "      <td>Boston Celtics</td>\n",
       "      <td>0.0</td>\n",
       "      <td>PG</td>\n",
       "      <td>25.0</td>\n",
       "      <td>6-2</td>\n",
       "      <td>180.0</td>\n",
       "      <td>Texas</td>\n",
       "      <td>7730337.0</td>\n",
       "    </tr>\n",
       "    <tr>\n",
       "      <th>1</th>\n",
       "      <td>Jae Crowder</td>\n",
       "      <td>Boston Celtics</td>\n",
       "      <td>99.0</td>\n",
       "      <td>SF</td>\n",
       "      <td>25.0</td>\n",
       "      <td>6-6</td>\n",
       "      <td>235.0</td>\n",
       "      <td>Marquette</td>\n",
       "      <td>6796117.0</td>\n",
       "    </tr>\n",
       "    <tr>\n",
       "      <th>2</th>\n",
       "      <td>John Holland</td>\n",
       "      <td>Boston Celtics</td>\n",
       "      <td>30.0</td>\n",
       "      <td>SG</td>\n",
       "      <td>27.0</td>\n",
       "      <td>6-5</td>\n",
       "      <td>205.0</td>\n",
       "      <td>Boston University</td>\n",
       "      <td>NaN</td>\n",
       "    </tr>\n",
       "    <tr>\n",
       "      <th>3</th>\n",
       "      <td>R.J. Hunter</td>\n",
       "      <td>Boston Celtics</td>\n",
       "      <td>28.0</td>\n",
       "      <td>SG</td>\n",
       "      <td>22.0</td>\n",
       "      <td>6-5</td>\n",
       "      <td>185.0</td>\n",
       "      <td>Georgia State</td>\n",
       "      <td>1148640.0</td>\n",
       "    </tr>\n",
       "    <tr>\n",
       "      <th>4</th>\n",
       "      <td>Jonas Jerebko</td>\n",
       "      <td>Boston Celtics</td>\n",
       "      <td>8.0</td>\n",
       "      <td>PF</td>\n",
       "      <td>29.0</td>\n",
       "      <td>6-10</td>\n",
       "      <td>231.0</td>\n",
       "      <td>NaN</td>\n",
       "      <td>5000000.0</td>\n",
       "    </tr>\n",
       "  </tbody>\n",
       "</table>\n",
       "</div>"
      ],
      "text/plain": [
       "            Name            Team  Number Position   Age Height  Weight  \\\n",
       "0  Avery Bradley  Boston Celtics     0.0       PG  25.0    6-2   180.0   \n",
       "1    Jae Crowder  Boston Celtics    99.0       SF  25.0    6-6   235.0   \n",
       "2   John Holland  Boston Celtics    30.0       SG  27.0    6-5   205.0   \n",
       "3    R.J. Hunter  Boston Celtics    28.0       SG  22.0    6-5   185.0   \n",
       "4  Jonas Jerebko  Boston Celtics     8.0       PF  29.0   6-10   231.0   \n",
       "\n",
       "             College     Salary  \n",
       "0              Texas  7730337.0  \n",
       "1          Marquette  6796117.0  \n",
       "2  Boston University        NaN  \n",
       "3      Georgia State  1148640.0  \n",
       "4                NaN  5000000.0  "
      ]
     },
     "execution_count": 23,
     "metadata": {},
     "output_type": "execute_result"
    }
   ],
   "source": [
    "df.head()"
   ]
  },
  {
   "cell_type": "code",
   "execution_count": 24,
   "id": "b4f16edc",
   "metadata": {},
   "outputs": [
    {
     "data": {
      "text/plain": [
       "Name         1\n",
       "Team         1\n",
       "Number       1\n",
       "Position     1\n",
       "Age          1\n",
       "Height       1\n",
       "Weight       1\n",
       "College     85\n",
       "Salary      12\n",
       "dtype: int64"
      ]
     },
     "execution_count": 24,
     "metadata": {},
     "output_type": "execute_result"
    }
   ],
   "source": [
    "df.isnull().sum()"
   ]
  },
  {
   "cell_type": "code",
   "execution_count": 25,
   "id": "a768b4b0",
   "metadata": {},
   "outputs": [],
   "source": [
    "df = df.dropna()"
   ]
  },
  {
   "cell_type": "code",
   "execution_count": 26,
   "id": "82fa0c2f",
   "metadata": {},
   "outputs": [
    {
     "data": {
      "text/plain": [
       "Name        0\n",
       "Team        0\n",
       "Number      0\n",
       "Position    0\n",
       "Age         0\n",
       "Height      0\n",
       "Weight      0\n",
       "College     0\n",
       "Salary      0\n",
       "dtype: int64"
      ]
     },
     "execution_count": 26,
     "metadata": {},
     "output_type": "execute_result"
    }
   ],
   "source": [
    "df.isnull().sum()"
   ]
  },
  {
   "cell_type": "markdown",
   "id": "9a56c7e0",
   "metadata": {},
   "source": [
    "1. Provide summary statistics (mean, median, minimum, maximum, standard deviation) for a dataset (age, income etc.) with numeric variables grouped by one of the qualitative (categorical) variable. For example, if your categorical variable is age groups and quantitative variable is income, then provide summary statistics of income grouped by the age groups. Create a list that contains a numeric value for each response to the categorical variable."
   ]
  },
  {
   "cell_type": "markdown",
   "id": "6ec1c1df",
   "metadata": {},
   "source": [
    "### Statistics for Salary grouped by 'Age'"
   ]
  },
  {
   "cell_type": "code",
   "execution_count": 27,
   "id": "76e49c9f",
   "metadata": {},
   "outputs": [
    {
     "data": {
      "text/plain": [
       "Age\n",
       "19.0     2\n",
       "20.0    15\n",
       "21.0    14\n",
       "22.0    23\n",
       "23.0    33\n",
       "24.0    41\n",
       "25.0    41\n",
       "26.0    32\n",
       "27.0    35\n",
       "28.0    27\n",
       "29.0    17\n",
       "30.0    20\n",
       "31.0    17\n",
       "32.0     9\n",
       "33.0     8\n",
       "34.0     7\n",
       "35.0     7\n",
       "36.0     9\n",
       "37.0     1\n",
       "38.0     3\n",
       "39.0     1\n",
       "40.0     2\n",
       "Name: Salary, dtype: int64"
      ]
     },
     "execution_count": 27,
     "metadata": {},
     "output_type": "execute_result"
    }
   ],
   "source": [
    "df.groupby(['Age']).Salary.count() "
   ]
  },
  {
   "cell_type": "code",
   "execution_count": 28,
   "id": "f1044460",
   "metadata": {},
   "outputs": [],
   "source": [
    "### Grouping by categorical column 'Age' and getting statistics"
   ]
  },
  {
   "cell_type": "code",
   "execution_count": 29,
   "id": "9eeb76f3",
   "metadata": {},
   "outputs": [
    {
     "data": {
      "text/html": [
       "<div>\n",
       "<style scoped>\n",
       "    .dataframe tbody tr th:only-of-type {\n",
       "        vertical-align: middle;\n",
       "    }\n",
       "\n",
       "    .dataframe tbody tr th {\n",
       "        vertical-align: top;\n",
       "    }\n",
       "\n",
       "    .dataframe thead th {\n",
       "        text-align: right;\n",
       "    }\n",
       "</style>\n",
       "<table border=\"1\" class=\"dataframe\">\n",
       "  <thead>\n",
       "    <tr style=\"text-align: right;\">\n",
       "      <th></th>\n",
       "      <th>max</th>\n",
       "      <th>min</th>\n",
       "      <th>mean</th>\n",
       "      <th>median</th>\n",
       "      <th>std</th>\n",
       "    </tr>\n",
       "    <tr>\n",
       "      <th>Age</th>\n",
       "      <th></th>\n",
       "      <th></th>\n",
       "      <th></th>\n",
       "      <th></th>\n",
       "      <th></th>\n",
       "    </tr>\n",
       "  </thead>\n",
       "  <tbody>\n",
       "    <tr>\n",
       "      <th>19.0</th>\n",
       "      <td>2127840.0</td>\n",
       "      <td>1733040.0</td>\n",
       "      <td>1.930440e+06</td>\n",
       "      <td>1930440.0</td>\n",
       "      <td>2.791658e+05</td>\n",
       "    </tr>\n",
       "    <tr>\n",
       "      <th>20.0</th>\n",
       "      <td>5703600.0</td>\n",
       "      <td>525093.0</td>\n",
       "      <td>2.616956e+06</td>\n",
       "      <td>2357760.0</td>\n",
       "      <td>1.609006e+06</td>\n",
       "    </tr>\n",
       "    <tr>\n",
       "      <th>21.0</th>\n",
       "      <td>5758680.0</td>\n",
       "      <td>525093.0</td>\n",
       "      <td>2.113412e+06</td>\n",
       "      <td>1494540.0</td>\n",
       "      <td>1.542987e+06</td>\n",
       "    </tr>\n",
       "    <tr>\n",
       "      <th>22.0</th>\n",
       "      <td>6331404.0</td>\n",
       "      <td>525093.0</td>\n",
       "      <td>2.465265e+06</td>\n",
       "      <td>2041080.0</td>\n",
       "      <td>1.582921e+06</td>\n",
       "    </tr>\n",
       "    <tr>\n",
       "      <th>23.0</th>\n",
       "      <td>16000000.0</td>\n",
       "      <td>83397.0</td>\n",
       "      <td>2.141789e+06</td>\n",
       "      <td>1155600.0</td>\n",
       "      <td>2.930108e+06</td>\n",
       "    </tr>\n",
       "    <tr>\n",
       "      <th>24.0</th>\n",
       "      <td>16407501.0</td>\n",
       "      <td>525093.0</td>\n",
       "      <td>3.952886e+06</td>\n",
       "      <td>1509360.0</td>\n",
       "      <td>4.982172e+06</td>\n",
       "    </tr>\n",
       "    <tr>\n",
       "      <th>25.0</th>\n",
       "      <td>15851950.0</td>\n",
       "      <td>55722.0</td>\n",
       "      <td>3.717713e+06</td>\n",
       "      <td>1159680.0</td>\n",
       "      <td>4.498505e+06</td>\n",
       "    </tr>\n",
       "    <tr>\n",
       "      <th>26.0</th>\n",
       "      <td>17120106.0</td>\n",
       "      <td>134215.0</td>\n",
       "      <td>6.902746e+06</td>\n",
       "      <td>3183487.5</td>\n",
       "      <td>6.322481e+06</td>\n",
       "    </tr>\n",
       "    <tr>\n",
       "      <th>27.0</th>\n",
       "      <td>20158622.0</td>\n",
       "      <td>55722.0</td>\n",
       "      <td>6.642361e+06</td>\n",
       "      <td>3425510.0</td>\n",
       "      <td>7.007965e+06</td>\n",
       "    </tr>\n",
       "    <tr>\n",
       "      <th>28.0</th>\n",
       "      <td>19689000.0</td>\n",
       "      <td>206192.0</td>\n",
       "      <td>5.293187e+06</td>\n",
       "      <td>4500000.0</td>\n",
       "      <td>4.507389e+06</td>\n",
       "    </tr>\n",
       "    <tr>\n",
       "      <th>29.0</th>\n",
       "      <td>16407500.0</td>\n",
       "      <td>111444.0</td>\n",
       "      <td>6.583558e+06</td>\n",
       "      <td>6500000.0</td>\n",
       "      <td>5.586068e+06</td>\n",
       "    </tr>\n",
       "    <tr>\n",
       "      <th>30.0</th>\n",
       "      <td>19689000.0</td>\n",
       "      <td>947276.0</td>\n",
       "      <td>6.415726e+06</td>\n",
       "      <td>6337500.0</td>\n",
       "      <td>4.733617e+06</td>\n",
       "    </tr>\n",
       "    <tr>\n",
       "      <th>31.0</th>\n",
       "      <td>21468695.0</td>\n",
       "      <td>947276.0</td>\n",
       "      <td>7.081688e+06</td>\n",
       "      <td>5219169.0</td>\n",
       "      <td>6.261255e+06</td>\n",
       "    </tr>\n",
       "    <tr>\n",
       "      <th>32.0</th>\n",
       "      <td>22875000.0</td>\n",
       "      <td>295327.0</td>\n",
       "      <td>8.772865e+06</td>\n",
       "      <td>6300000.0</td>\n",
       "      <td>8.500014e+06</td>\n",
       "    </tr>\n",
       "    <tr>\n",
       "      <th>33.0</th>\n",
       "      <td>8193029.0</td>\n",
       "      <td>200600.0</td>\n",
       "      <td>3.096028e+06</td>\n",
       "      <td>2300000.0</td>\n",
       "      <td>2.408262e+06</td>\n",
       "    </tr>\n",
       "    <tr>\n",
       "      <th>34.0</th>\n",
       "      <td>20000000.0</td>\n",
       "      <td>261894.0</td>\n",
       "      <td>6.817141e+06</td>\n",
       "      <td>5016000.0</td>\n",
       "      <td>6.444587e+06</td>\n",
       "    </tr>\n",
       "    <tr>\n",
       "      <th>35.0</th>\n",
       "      <td>5746479.0</td>\n",
       "      <td>947276.0</td>\n",
       "      <td>2.892165e+06</td>\n",
       "      <td>2854940.0</td>\n",
       "      <td>1.869718e+06</td>\n",
       "    </tr>\n",
       "    <tr>\n",
       "      <th>36.0</th>\n",
       "      <td>5675000.0</td>\n",
       "      <td>947276.0</td>\n",
       "      <td>2.164577e+06</td>\n",
       "      <td>1449187.0</td>\n",
       "      <td>1.625479e+06</td>\n",
       "    </tr>\n",
       "    <tr>\n",
       "      <th>37.0</th>\n",
       "      <td>5000000.0</td>\n",
       "      <td>5000000.0</td>\n",
       "      <td>5.000000e+06</td>\n",
       "      <td>5000000.0</td>\n",
       "      <td>NaN</td>\n",
       "    </tr>\n",
       "    <tr>\n",
       "      <th>38.0</th>\n",
       "      <td>3376000.0</td>\n",
       "      <td>222888.0</td>\n",
       "      <td>1.515388e+06</td>\n",
       "      <td>947276.0</td>\n",
       "      <td>1.651542e+06</td>\n",
       "    </tr>\n",
       "    <tr>\n",
       "      <th>39.0</th>\n",
       "      <td>4088019.0</td>\n",
       "      <td>4088019.0</td>\n",
       "      <td>4.088019e+06</td>\n",
       "      <td>4088019.0</td>\n",
       "      <td>NaN</td>\n",
       "    </tr>\n",
       "    <tr>\n",
       "      <th>40.0</th>\n",
       "      <td>5250000.0</td>\n",
       "      <td>250750.0</td>\n",
       "      <td>2.750375e+06</td>\n",
       "      <td>2750375.0</td>\n",
       "      <td>3.535004e+06</td>\n",
       "    </tr>\n",
       "  </tbody>\n",
       "</table>\n",
       "</div>"
      ],
      "text/plain": [
       "             max        min          mean     median           std\n",
       "Age                                                               \n",
       "19.0   2127840.0  1733040.0  1.930440e+06  1930440.0  2.791658e+05\n",
       "20.0   5703600.0   525093.0  2.616956e+06  2357760.0  1.609006e+06\n",
       "21.0   5758680.0   525093.0  2.113412e+06  1494540.0  1.542987e+06\n",
       "22.0   6331404.0   525093.0  2.465265e+06  2041080.0  1.582921e+06\n",
       "23.0  16000000.0    83397.0  2.141789e+06  1155600.0  2.930108e+06\n",
       "24.0  16407501.0   525093.0  3.952886e+06  1509360.0  4.982172e+06\n",
       "25.0  15851950.0    55722.0  3.717713e+06  1159680.0  4.498505e+06\n",
       "26.0  17120106.0   134215.0  6.902746e+06  3183487.5  6.322481e+06\n",
       "27.0  20158622.0    55722.0  6.642361e+06  3425510.0  7.007965e+06\n",
       "28.0  19689000.0   206192.0  5.293187e+06  4500000.0  4.507389e+06\n",
       "29.0  16407500.0   111444.0  6.583558e+06  6500000.0  5.586068e+06\n",
       "30.0  19689000.0   947276.0  6.415726e+06  6337500.0  4.733617e+06\n",
       "31.0  21468695.0   947276.0  7.081688e+06  5219169.0  6.261255e+06\n",
       "32.0  22875000.0   295327.0  8.772865e+06  6300000.0  8.500014e+06\n",
       "33.0   8193029.0   200600.0  3.096028e+06  2300000.0  2.408262e+06\n",
       "34.0  20000000.0   261894.0  6.817141e+06  5016000.0  6.444587e+06\n",
       "35.0   5746479.0   947276.0  2.892165e+06  2854940.0  1.869718e+06\n",
       "36.0   5675000.0   947276.0  2.164577e+06  1449187.0  1.625479e+06\n",
       "37.0   5000000.0  5000000.0  5.000000e+06  5000000.0           NaN\n",
       "38.0   3376000.0   222888.0  1.515388e+06   947276.0  1.651542e+06\n",
       "39.0   4088019.0  4088019.0  4.088019e+06  4088019.0           NaN\n",
       "40.0   5250000.0   250750.0  2.750375e+06  2750375.0  3.535004e+06"
      ]
     },
     "execution_count": 29,
     "metadata": {},
     "output_type": "execute_result"
    }
   ],
   "source": [
    "df.groupby(['Age']).Salary.agg(['max', 'min', 'mean', 'median', 'std'])"
   ]
  },
  {
   "cell_type": "markdown",
   "id": "52e05e59",
   "metadata": {},
   "source": [
    "### Manual Calculation for Salary column"
   ]
  },
  {
   "cell_type": "code",
   "execution_count": 30,
   "id": "cf14e0b5",
   "metadata": {},
   "outputs": [
    {
     "data": {
      "text/plain": [
       "364"
      ]
     },
     "execution_count": 30,
     "metadata": {},
     "output_type": "execute_result"
    }
   ],
   "source": [
    "salaries = df.Salary.values\n",
    "salaries_count = len(salaries)\n",
    "salaries_count"
   ]
  },
  {
   "cell_type": "markdown",
   "id": "ba05f85e",
   "metadata": {},
   "source": [
    "#### Mean"
   ]
  },
  {
   "cell_type": "code",
   "execution_count": 31,
   "id": "8010e550",
   "metadata": {},
   "outputs": [
    {
     "name": "stdout",
     "output_type": "stream",
     "text": [
      "Mean:  4620311.071428572\n"
     ]
    }
   ],
   "source": [
    "salaries_sum = 0\n",
    "for i in salaries:\n",
    "    salaries_sum += i\n",
    "salaries_mean = salaries_sum / salaries_count     \n",
    "print(\"Mean: \", salaries_mean)"
   ]
  },
  {
   "cell_type": "markdown",
   "id": "cc065a51",
   "metadata": {},
   "source": [
    "#### Median"
   ]
  },
  {
   "cell_type": "code",
   "execution_count": 32,
   "id": "0ac2505a",
   "metadata": {},
   "outputs": [
    {
     "name": "stdout",
     "output_type": "stream",
     "text": [
      "Median:  2515440.0\n"
     ]
    }
   ],
   "source": [
    "sorted_salaries = salaries.copy()\n",
    "sorted_salaries.sort()                                # sorting values in increasing order\n",
    "\n",
    "if salaries_count % 2 == 0:                           # if count is even avg of middle two numbers\n",
    "    salaries_median = (sorted_salaries[salaries_count//2] + sorted_salaries[(salaries_count//2)-1]) / 2\n",
    "else:\n",
    "    salaries_median = sorted_salaries[(salaries_count//2)-1]\n",
    "    \n",
    "print(\"Median: \", salaries_median)"
   ]
  },
  {
   "cell_type": "markdown",
   "id": "aeba07c3",
   "metadata": {},
   "source": [
    "#### Standard Deviation"
   ]
  },
  {
   "cell_type": "code",
   "execution_count": 33,
   "id": "efae2285",
   "metadata": {},
   "outputs": [
    {
     "name": "stdout",
     "output_type": "stream",
     "text": [
      "Std Deviation:  5119715.580210536\n"
     ]
    }
   ],
   "source": [
    "salaries_std_dev = 0.0\n",
    "\n",
    "for i in salaries:\n",
    "    salaries_std_dev += (i - salaries_mean)**2                      # sum of squares of variation from mean\n",
    "    \n",
    "salaries_std_dev = (salaries_std_dev / (salaries_count-1))**0.5     # getting standard deviation\n",
    "print(\"Std Deviation: \", salaries_std_dev)"
   ]
  },
  {
   "cell_type": "markdown",
   "id": "12d62c8f",
   "metadata": {},
   "source": [
    "#### Minimum"
   ]
  },
  {
   "cell_type": "code",
   "execution_count": 34,
   "id": "921cd52b",
   "metadata": {},
   "outputs": [
    {
     "data": {
      "text/plain": [
       "55722.0"
      ]
     },
     "execution_count": 34,
     "metadata": {},
     "output_type": "execute_result"
    }
   ],
   "source": [
    "salaries.min()"
   ]
  },
  {
   "cell_type": "markdown",
   "id": "b2e2e063",
   "metadata": {},
   "source": [
    "#### Maximum"
   ]
  },
  {
   "cell_type": "code",
   "execution_count": 35,
   "id": "6d30e82b",
   "metadata": {},
   "outputs": [
    {
     "data": {
      "text/plain": [
       "22875000.0"
      ]
     },
     "execution_count": 35,
     "metadata": {},
     "output_type": "execute_result"
    }
   ],
   "source": [
    "salaries.max()"
   ]
  },
  {
   "cell_type": "markdown",
   "id": "08aa5fd2",
   "metadata": {},
   "source": [
    "#### Complete Statistics"
   ]
  },
  {
   "cell_type": "code",
   "execution_count": 36,
   "id": "9f648ad4",
   "metadata": {},
   "outputs": [
    {
     "data": {
      "text/plain": [
       "count    3.640000e+02\n",
       "mean     4.620311e+06\n",
       "std      5.119716e+06\n",
       "min      5.572200e+04\n",
       "25%      1.000000e+06\n",
       "50%      2.515440e+06\n",
       "75%      6.149694e+06\n",
       "max      2.287500e+07\n",
       "Name: Salary, dtype: float64"
      ]
     },
     "execution_count": 36,
     "metadata": {},
     "output_type": "execute_result"
    }
   ],
   "source": [
    "df.Salary.describe()"
   ]
  },
  {
   "cell_type": "markdown",
   "id": "f5fc6be5",
   "metadata": {},
   "source": [
    "2. Write a Python program to display some basic statistical details like percentile, mean, standard deviation etc. of the species of ‘Iris-setosa’, ‘Iris-versicolor’ and ‘Iris-versicolor’ of iris.csv dataset."
   ]
  },
  {
   "cell_type": "markdown",
   "id": "77e2b5a0",
   "metadata": {},
   "source": [
    "### Load the Dataset into pandas data frame."
   ]
  },
  {
   "cell_type": "code",
   "execution_count": 37,
   "id": "90129bf0",
   "metadata": {},
   "outputs": [],
   "source": [
    "from pandas import read_csv\n",
    "df = read_csv('datasets/Iris.csv')"
   ]
  },
  {
   "cell_type": "code",
   "execution_count": 38,
   "id": "969f76be",
   "metadata": {},
   "outputs": [
    {
     "data": {
      "text/html": [
       "<div>\n",
       "<style scoped>\n",
       "    .dataframe tbody tr th:only-of-type {\n",
       "        vertical-align: middle;\n",
       "    }\n",
       "\n",
       "    .dataframe tbody tr th {\n",
       "        vertical-align: top;\n",
       "    }\n",
       "\n",
       "    .dataframe thead th {\n",
       "        text-align: right;\n",
       "    }\n",
       "</style>\n",
       "<table border=\"1\" class=\"dataframe\">\n",
       "  <thead>\n",
       "    <tr style=\"text-align: right;\">\n",
       "      <th></th>\n",
       "      <th>Id</th>\n",
       "      <th>SepalLengthCm</th>\n",
       "      <th>SepalWidthCm</th>\n",
       "      <th>PetalLengthCm</th>\n",
       "      <th>PetalWidthCm</th>\n",
       "      <th>Species</th>\n",
       "    </tr>\n",
       "  </thead>\n",
       "  <tbody>\n",
       "    <tr>\n",
       "      <th>0</th>\n",
       "      <td>1</td>\n",
       "      <td>5.1</td>\n",
       "      <td>3.5</td>\n",
       "      <td>1.4</td>\n",
       "      <td>0.2</td>\n",
       "      <td>Iris-setosa</td>\n",
       "    </tr>\n",
       "    <tr>\n",
       "      <th>1</th>\n",
       "      <td>2</td>\n",
       "      <td>4.9</td>\n",
       "      <td>3.0</td>\n",
       "      <td>1.4</td>\n",
       "      <td>0.2</td>\n",
       "      <td>Iris-setosa</td>\n",
       "    </tr>\n",
       "    <tr>\n",
       "      <th>2</th>\n",
       "      <td>3</td>\n",
       "      <td>4.7</td>\n",
       "      <td>3.2</td>\n",
       "      <td>1.3</td>\n",
       "      <td>0.2</td>\n",
       "      <td>Iris-setosa</td>\n",
       "    </tr>\n",
       "    <tr>\n",
       "      <th>3</th>\n",
       "      <td>4</td>\n",
       "      <td>4.6</td>\n",
       "      <td>3.1</td>\n",
       "      <td>1.5</td>\n",
       "      <td>0.2</td>\n",
       "      <td>Iris-setosa</td>\n",
       "    </tr>\n",
       "    <tr>\n",
       "      <th>4</th>\n",
       "      <td>5</td>\n",
       "      <td>5.0</td>\n",
       "      <td>3.6</td>\n",
       "      <td>1.4</td>\n",
       "      <td>0.2</td>\n",
       "      <td>Iris-setosa</td>\n",
       "    </tr>\n",
       "  </tbody>\n",
       "</table>\n",
       "</div>"
      ],
      "text/plain": [
       "   Id  SepalLengthCm  SepalWidthCm  PetalLengthCm  PetalWidthCm      Species\n",
       "0   1            5.1           3.5            1.4           0.2  Iris-setosa\n",
       "1   2            4.9           3.0            1.4           0.2  Iris-setosa\n",
       "2   3            4.7           3.2            1.3           0.2  Iris-setosa\n",
       "3   4            4.6           3.1            1.5           0.2  Iris-setosa\n",
       "4   5            5.0           3.6            1.4           0.2  Iris-setosa"
      ]
     },
     "execution_count": 38,
     "metadata": {},
     "output_type": "execute_result"
    }
   ],
   "source": [
    "df.head()"
   ]
  },
  {
   "cell_type": "markdown",
   "id": "031b906e",
   "metadata": {},
   "source": [
    "### Basic Statistical Details"
   ]
  },
  {
   "cell_type": "code",
   "execution_count": 39,
   "id": "6b71b9b5",
   "metadata": {},
   "outputs": [
    {
     "name": "stdout",
     "output_type": "stream",
     "text": [
      "Iris-setosa\n",
      "             Id  SepalLengthCm  SepalWidthCm  PetalLengthCm  PetalWidthCm\n",
      "count  50.00000       50.00000     50.000000      50.000000      50.00000\n",
      "mean   25.50000        5.00600      3.418000       1.464000       0.24400\n",
      "std    14.57738        0.35249      0.381024       0.173511       0.10721\n",
      "min     1.00000        4.30000      2.300000       1.000000       0.10000\n",
      "25%    13.25000        4.80000      3.125000       1.400000       0.20000\n",
      "50%    25.50000        5.00000      3.400000       1.500000       0.20000\n",
      "75%    37.75000        5.20000      3.675000       1.575000       0.30000\n",
      "max    50.00000        5.80000      4.400000       1.900000       0.60000\n",
      "\n",
      "Iris-versicolor\n",
      "              Id  SepalLengthCm  SepalWidthCm  PetalLengthCm  PetalWidthCm\n",
      "count   50.00000      50.000000     50.000000      50.000000     50.000000\n",
      "mean    75.50000       5.936000      2.770000       4.260000      1.326000\n",
      "std     14.57738       0.516171      0.313798       0.469911      0.197753\n",
      "min     51.00000       4.900000      2.000000       3.000000      1.000000\n",
      "25%     63.25000       5.600000      2.525000       4.000000      1.200000\n",
      "50%     75.50000       5.900000      2.800000       4.350000      1.300000\n",
      "75%     87.75000       6.300000      3.000000       4.600000      1.500000\n",
      "max    100.00000       7.000000      3.400000       5.100000      1.800000\n",
      "\n",
      "Iris-virginica\n",
      "              Id  SepalLengthCm  SepalWidthCm  PetalLengthCm  PetalWidthCm\n",
      "count   50.00000      50.000000     50.000000      50.000000     50.000000\n",
      "mean    75.50000       5.936000      2.770000       4.260000      1.326000\n",
      "std     14.57738       0.516171      0.313798       0.469911      0.197753\n",
      "min     51.00000       4.900000      2.000000       3.000000      1.000000\n",
      "25%     63.25000       5.600000      2.525000       4.000000      1.200000\n",
      "50%     75.50000       5.900000      2.800000       4.350000      1.300000\n",
      "75%     87.75000       6.300000      3.000000       4.600000      1.500000\n",
      "max    100.00000       7.000000      3.400000       5.100000      1.800000\n"
     ]
    }
   ],
   "source": [
    "print('Iris-setosa')\n",
    "setosa = df['Species'] == 'Iris-setosa'\n",
    "print(df[setosa].describe())\n",
    "\n",
    "print('\\nIris-versicolor')\n",
    "versicolor = df['Species'] == 'Iris-versicolor'\n",
    "print(df[versicolor].describe())\n",
    "\n",
    "print('\\nIris-virginica')\n",
    "versicolor = df['Species'] == 'Iris-versicolor'\n",
    "print(df[versicolor].describe())"
   ]
  },
  {
   "cell_type": "code",
   "execution_count": null,
   "id": "20af0d6c",
   "metadata": {},
   "outputs": [],
   "source": []
  }
 ],
 "metadata": {
  "kernelspec": {
   "display_name": "Python 3 (ipykernel)",
   "language": "python",
   "name": "python3"
  },
  "language_info": {
   "codemirror_mode": {
    "name": "ipython",
    "version": 3
   },
   "file_extension": ".py",
   "mimetype": "text/x-python",
   "name": "python",
   "nbconvert_exporter": "python",
   "pygments_lexer": "ipython3",
   "version": "3.10.0"
  }
 },
 "nbformat": 4,
 "nbformat_minor": 5
}
