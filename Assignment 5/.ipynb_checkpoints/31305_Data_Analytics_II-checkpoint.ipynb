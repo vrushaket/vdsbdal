{
 "cells": [
  {
   "cell_type": "markdown",
   "id": "0d86483c",
   "metadata": {},
   "source": [
    "Name : Vrushaket Chaudhari\n",
    "    \n",
    "Roll No.: 31305\n",
    "\n",
    "Class: TE03\n",
    "    \n",
    "Batch: K3\n",
    "    \n",
    "Subject: DSBDAL\n",
    "    \n",
    "Assignment No.: 5"
   ]
  },
  {
   "cell_type": "markdown",
   "id": "9b4de240",
   "metadata": {},
   "source": [
    "## Data Analytics II\n",
    "1. Implement logistic regression using Python/R to perform classification on\n",
    "Social_Network_Ads.csv dataset.\n",
    "\n",
    "2. Compute Confusion matrix to find TP, FP, TN, FN, Accuracy, Error rate, Precision, Recall\n",
    "on the given dataset."
   ]
  },
  {
   "cell_type": "markdown",
   "id": "8dac652d",
   "metadata": {},
   "source": [
    "### Import Required Libraries"
   ]
  },
  {
   "cell_type": "code",
   "execution_count": 46,
   "id": "806aa191",
   "metadata": {},
   "outputs": [],
   "source": [
    "import pandas as pd\n",
    "import numpy as np\n",
    "import matplotlib.pyplot as plt\n",
    "import seaborn as sns\n",
    "%matplotlib inline"
   ]
  },
  {
   "cell_type": "markdown",
   "id": "44ea988f",
   "metadata": {},
   "source": [
    "### Read the CSV File"
   ]
  },
  {
   "cell_type": "code",
   "execution_count": 47,
   "id": "235e8e7b",
   "metadata": {},
   "outputs": [],
   "source": [
    "df = pd.read_csv('Social_Network_Ads.csv')"
   ]
  },
  {
   "cell_type": "code",
   "execution_count": 48,
   "id": "0ee85f04",
   "metadata": {},
   "outputs": [
    {
     "data": {
      "text/html": [
       "<div>\n",
       "<style scoped>\n",
       "    .dataframe tbody tr th:only-of-type {\n",
       "        vertical-align: middle;\n",
       "    }\n",
       "\n",
       "    .dataframe tbody tr th {\n",
       "        vertical-align: top;\n",
       "    }\n",
       "\n",
       "    .dataframe thead th {\n",
       "        text-align: right;\n",
       "    }\n",
       "</style>\n",
       "<table border=\"1\" class=\"dataframe\">\n",
       "  <thead>\n",
       "    <tr style=\"text-align: right;\">\n",
       "      <th></th>\n",
       "      <th>User ID</th>\n",
       "      <th>Gender</th>\n",
       "      <th>Age</th>\n",
       "      <th>EstimatedSalary</th>\n",
       "      <th>Purchased</th>\n",
       "    </tr>\n",
       "  </thead>\n",
       "  <tbody>\n",
       "    <tr>\n",
       "      <th>0</th>\n",
       "      <td>15624510</td>\n",
       "      <td>Male</td>\n",
       "      <td>19.0</td>\n",
       "      <td>19000.0</td>\n",
       "      <td>0</td>\n",
       "    </tr>\n",
       "    <tr>\n",
       "      <th>1</th>\n",
       "      <td>15810944</td>\n",
       "      <td>Male</td>\n",
       "      <td>35.0</td>\n",
       "      <td>20000.0</td>\n",
       "      <td>0</td>\n",
       "    </tr>\n",
       "    <tr>\n",
       "      <th>2</th>\n",
       "      <td>15668575</td>\n",
       "      <td>Female</td>\n",
       "      <td>26.0</td>\n",
       "      <td>43000.0</td>\n",
       "      <td>0</td>\n",
       "    </tr>\n",
       "    <tr>\n",
       "      <th>3</th>\n",
       "      <td>15603246</td>\n",
       "      <td>Female</td>\n",
       "      <td>27.0</td>\n",
       "      <td>57000.0</td>\n",
       "      <td>0</td>\n",
       "    </tr>\n",
       "    <tr>\n",
       "      <th>4</th>\n",
       "      <td>15804002</td>\n",
       "      <td>Male</td>\n",
       "      <td>19.0</td>\n",
       "      <td>76000.0</td>\n",
       "      <td>0</td>\n",
       "    </tr>\n",
       "  </tbody>\n",
       "</table>\n",
       "</div>"
      ],
      "text/plain": [
       "    User ID  Gender   Age  EstimatedSalary  Purchased\n",
       "0  15624510    Male  19.0          19000.0          0\n",
       "1  15810944    Male  35.0          20000.0          0\n",
       "2  15668575  Female  26.0          43000.0          0\n",
       "3  15603246  Female  27.0          57000.0          0\n",
       "4  15804002    Male  19.0          76000.0          0"
      ]
     },
     "execution_count": 48,
     "metadata": {},
     "output_type": "execute_result"
    }
   ],
   "source": [
    "df.head()"
   ]
  },
  {
   "cell_type": "markdown",
   "id": "fb0be904",
   "metadata": {},
   "source": [
    "### Checking for null values"
   ]
  },
  {
   "cell_type": "code",
   "execution_count": 49,
   "id": "4fea7a15",
   "metadata": {},
   "outputs": [
    {
     "data": {
      "text/plain": [
       "User ID            0\n",
       "Gender             0\n",
       "Age                0\n",
       "EstimatedSalary    0\n",
       "Purchased          0\n",
       "dtype: int64"
      ]
     },
     "execution_count": 49,
     "metadata": {},
     "output_type": "execute_result"
    }
   ],
   "source": [
    "df.isnull().sum()"
   ]
  },
  {
   "cell_type": "markdown",
   "id": "4ae8e151",
   "metadata": {},
   "source": [
    "### Classifying dependant and independent variables"
   ]
  },
  {
   "cell_type": "code",
   "execution_count": 50,
   "id": "c6e63a72",
   "metadata": {},
   "outputs": [
    {
     "name": "stdout",
     "output_type": "stream",
     "text": [
      "X\n",
      "      Gender   Age  EstimatedSalary\n",
      "0         1  19.0          19000.0\n",
      "1         1  35.0          20000.0\n",
      "2         0  26.0          43000.0\n",
      "3         0  27.0          57000.0\n",
      "4         1  19.0          76000.0\n",
      "..      ...   ...              ...\n",
      "395       0  46.0          41000.0\n",
      "396       1  51.0          23000.0\n",
      "397       0  50.0          20000.0\n",
      "398       1  36.0          33000.0\n",
      "399       0  49.0          36000.0\n",
      "\n",
      "[400 rows x 3 columns] \n",
      "\n",
      "\n",
      "Y\n",
      " 0      0\n",
      "1      0\n",
      "2      0\n",
      "3      0\n",
      "4      0\n",
      "      ..\n",
      "395    1\n",
      "396    1\n",
      "397    1\n",
      "398    0\n",
      "399    1\n",
      "Name: Purchased, Length: 400, dtype: int64\n"
     ]
    },
    {
     "name": "stderr",
     "output_type": "stream",
     "text": [
      "/home/pict/.local/lib/python3.6/site-packages/pandas/core/series.py:4582: SettingWithCopyWarning: \n",
      "A value is trying to be set on a copy of a slice from a DataFrame\n",
      "\n",
      "See the caveats in the documentation: https://pandas.pydata.org/pandas-docs/stable/user_guide/indexing.html#returning-a-view-versus-a-copy\n",
      "  method=method,\n"
     ]
    }
   ],
   "source": [
    "dependant_cols = ['Gender','Age','EstimatedSalary']\n",
    "#getting column values\n",
    "X = df[dependant_cols]  \n",
    "\n",
    "X['Gender'].replace({'Male':1,'Female':0},inplace = True)\n",
    "\n",
    "Y = df['Purchased']     #target column\n",
    "\n",
    "print('X\\n',X,'\\n\\n\\nY\\n',Y)"
   ]
  },
  {
   "cell_type": "markdown",
   "id": "df58eb99",
   "metadata": {},
   "source": [
    "### Spliting the dataset"
   ]
  },
  {
   "cell_type": "code",
   "execution_count": 51,
   "id": "f425a89b",
   "metadata": {},
   "outputs": [],
   "source": [
    "from sklearn.model_selection import train_test_split"
   ]
  },
  {
   "cell_type": "code",
   "execution_count": 52,
   "id": "aff08f5d",
   "metadata": {},
   "outputs": [],
   "source": [
    "X_train, X_test, Y_train, Y_test = train_test_split(X, Y, test_size=0.30, random_state=5)"
   ]
  },
  {
   "cell_type": "markdown",
   "id": "702bdf60",
   "metadata": {},
   "source": [
    "### Training the model"
   ]
  },
  {
   "cell_type": "code",
   "execution_count": 53,
   "id": "57192d9c",
   "metadata": {},
   "outputs": [],
   "source": [
    "from sklearn.linear_model import LogisticRegression"
   ]
  },
  {
   "cell_type": "code",
   "execution_count": 54,
   "id": "d66d57f8",
   "metadata": {},
   "outputs": [],
   "source": [
    "logistic_regression = LogisticRegression()\n",
    "logistic_regression.fit(X_train, Y_train)\n",
    "y_train_predict = logistic_regression.predict(X_train)\n",
    "y_test_predict = logistic_regression.predict(X_test)"
   ]
  },
  {
   "cell_type": "markdown",
   "id": "9f7999ff",
   "metadata": {},
   "source": [
    "### Model Evaluation"
   ]
  },
  {
   "cell_type": "code",
   "execution_count": 55,
   "id": "8602369b",
   "metadata": {},
   "outputs": [],
   "source": [
    "from sklearn.metrics import confusion_matrix\n",
    "from sklearn.metrics import mean_squared_error\n",
    "from sklearn.metrics import mean_absolute_error\n",
    "from sklearn.metrics import r2_score"
   ]
  },
  {
   "cell_type": "markdown",
   "id": "4f1831f4",
   "metadata": {},
   "source": [
    "#### Model Evaluation for training "
   ]
  },
  {
   "cell_type": "code",
   "execution_count": 56,
   "id": "086689fc",
   "metadata": {},
   "outputs": [
    {
     "name": "stdout",
     "output_type": "stream",
     "text": [
      "The model performance for training set\n",
      "--------------------------------------\n",
      "RMSE :  0.6005949431307973\n",
      "MSE :  0.3607142857142857\n",
      "MAE :  0.3607142857142857\n",
      "R2 Score :  -0.564245810055866\n"
     ]
    }
   ],
   "source": [
    "print(\"The model performance for training set\")\n",
    "print(\"--------------------------------------\")\n",
    "print(\"RMSE : \", np.sqrt(mean_squared_error(Y_train, y_train_predict)))\n",
    "print(\"MSE : \", mean_squared_error(Y_train, y_train_predict))\n",
    "print(\"MAE : \", mean_absolute_error(Y_train, y_train_predict))\n",
    "print(\"R2 Score : \", r2_score(Y_train, y_train_predict))"
   ]
  },
  {
   "cell_type": "markdown",
   "id": "6cd6e159",
   "metadata": {},
   "source": [
    "#### Model Evaluation for testing "
   ]
  },
  {
   "cell_type": "code",
   "execution_count": 57,
   "id": "3190b860",
   "metadata": {},
   "outputs": [
    {
     "name": "stdout",
     "output_type": "stream",
     "text": [
      "The model performance for testing set\n",
      "--------------------------------------\n",
      "RMSE :  0.5916079783099616\n",
      "MSE :  0.35\n",
      "MAE :  0.35\n",
      "R2 Score :  -0.5384615384615385\n"
     ]
    }
   ],
   "source": [
    "print(\"The model performance for testing set\")\n",
    "print(\"--------------------------------------\")\n",
    "print(\"RMSE : \", np.sqrt(mean_squared_error(Y_test, y_test_predict)))\n",
    "print(\"MSE : \", mean_squared_error(Y_test, y_test_predict))\n",
    "print(\"MAE : \", mean_absolute_error(Y_test, y_test_predict))\n",
    "print(\"R2 Score : \", r2_score(Y_test, y_test_predict))"
   ]
  },
  {
   "cell_type": "markdown",
   "id": "fce7e278",
   "metadata": {},
   "source": [
    "### Displaying Confusion Matrix"
   ]
  },
  {
   "cell_type": "code",
   "execution_count": 58,
   "id": "1b1c76c2",
   "metadata": {},
   "outputs": [
    {
     "data": {
      "text/plain": [
       "array([[78,  0],\n",
       "       [42,  0]])"
      ]
     },
     "execution_count": 58,
     "metadata": {},
     "output_type": "execute_result"
    }
   ],
   "source": [
    "confusion_matrix = confusion_matrix(Y_test, y_test_predict)\n",
    "confusion_matrix"
   ]
  },
  {
   "cell_type": "code",
   "execution_count": 59,
   "id": "3d3ab7c2",
   "metadata": {},
   "outputs": [
    {
     "data": {
      "image/png": "[encoded data removed]",
      "text/plain": [
       "<Figure size 432x288 with 2 Axes>"
      ]
     },
     "metadata": {
      "needs_background": "light"
     },
     "output_type": "display_data"
    }
   ],
   "source": [
    "ax = sns.heatmap(confusion_matrix, annot=True, cmap='Blues')\n",
    "ax.set_title('Confusion Matrix\\n');\n",
    "ax.set_xlabel('\\nPredicted Values')\n",
    "ax.set_ylabel('Actual Values ');\n",
    "ax.xaxis.set_ticklabels(['False','True'])\n",
    "ax.yaxis.set_ticklabels(['False','True'])\n",
    "plt.show()"
   ]
  },
  {
   "cell_type": "markdown",
   "id": "eb6f961f",
   "metadata": {},
   "source": [
    "### Printing TP, TN, FP, FN"
   ]
  },
  {
   "cell_type": "code",
   "execution_count": 60,
   "id": "b7d43150",
   "metadata": {},
   "outputs": [
    {
     "name": "stdout",
     "output_type": "stream",
     "text": [
      "True Positive : 78\n",
      "True Negative :  0\n",
      "False Positive :  42\n",
      "False Negative :  0\n"
     ]
    }
   ],
   "source": [
    "true_positive, true_negative, false_positive, false_negative = confusion_matrix.ravel()\n",
    "print('True Positive :', true_positive)\n",
    "print('True Negative : ', true_negative)\n",
    "print('False Positive : ', false_positive)\n",
    "print('False Negative : ', false_negative)"
   ]
  },
  {
   "cell_type": "markdown",
   "id": "1d3c4378",
   "metadata": {},
   "source": [
    "### Accuracy"
   ]
  },
  {
   "cell_type": "code",
   "execution_count": 61,
   "id": "537c8921",
   "metadata": {},
   "outputs": [
    {
     "name": "stdout",
     "output_type": "stream",
     "text": [
      "Accuracy :  0.65\n",
      "Accuracy :  0.65\n"
     ]
    }
   ],
   "source": [
    "from sklearn import metrics\n",
    "print('Accuracy : ', metrics.accuracy_score(Y_test, y_test_predict))\n",
    "accuracy = (true_positive + true_negative) / (true_positive + true_negative + false_positive + false_negative)\n",
    "print('Accuracy : ', accuracy)"
   ]
  },
  {
   "cell_type": "markdown",
   "id": "1a8937a8",
   "metadata": {},
   "source": [
    "### Error rate"
   ]
  },
  {
   "cell_type": "code",
   "execution_count": 62,
   "id": "1edd23f9",
   "metadata": {},
   "outputs": [
    {
     "name": "stdout",
     "output_type": "stream",
     "text": [
      "Error Rate :  0.35\n"
     ]
    }
   ],
   "source": [
    "error_rate = (false_positive + false_negative) / (true_positive + true_negative + false_positive + false_negative)\n",
    "print('Error Rate : ', error_rate)"
   ]
  },
  {
   "cell_type": "markdown",
   "id": "052d6fb1",
   "metadata": {},
   "source": [
    "### Precision"
   ]
  },
  {
   "cell_type": "code",
   "execution_count": 63,
   "id": "811ee519",
   "metadata": {
    "scrolled": true
   },
   "outputs": [
    {
     "name": "stdout",
     "output_type": "stream",
     "text": [
      "Precision :  0.65\n"
     ]
    }
   ],
   "source": [
    "precision = (true_positive) / (true_positive + false_positive)\n",
    "print('Precision : ', precision)"
   ]
  },
  {
   "cell_type": "markdown",
   "id": "63db28d3",
   "metadata": {},
   "source": [
    "### Recall "
   ]
  },
  {
   "cell_type": "code",
   "execution_count": 64,
   "id": "78620361",
   "metadata": {},
   "outputs": [
    {
     "name": "stdout",
     "output_type": "stream",
     "text": [
      "Recall :  1.0\n"
     ]
    }
   ],
   "source": [
    "recall = (true_positive) / (true_positive + false_negative)\n",
    "print('Recall : ', recall)"
   ]
  },
  {
   "cell_type": "markdown",
   "id": "8cb82bac",
   "metadata": {},
   "source": [
    "## Observations"
   ]
  },
  {
   "cell_type": "markdown",
   "id": "9b5dc6c8",
   "metadata": {},
   "source": [
    "#### For model with split ratio for Training : 80% and Testing : 20%\n",
    "Accuracy :  0.6625\n",
    "\n",
    "Error Rate :  0.3375\n",
    "\n",
    "Precision :  0.6625\n",
    "\n",
    "Recall :  1.0\n",
    "\n",
    "\n",
    "#### For model with split ratio for Training : 75% and Testing : 25%\n",
    "Accuracy :  0.66\n",
    "\n",
    "Error Rate :  0.34\n",
    "\n",
    "Precision :  0.66\n",
    "\n",
    "Recall :  1.0\n",
    "\n",
    "#### For model with split ratio for Training : 70% and Testing : 30%\n",
    "Accuracy :  0.65\n",
    "\n",
    "Error Rate :  0.35\n",
    "\n",
    "Precision :  0.65\n",
    "\n",
    "Recall :  1.0"
   ]
  },
  {
   "cell_type": "code",
   "execution_count": null,
   "id": "846c205a",
   "metadata": {},
   "outputs": [],
   "source": []
  }
 ],
 "metadata": {
  "kernelspec": {
   "display_name": "Python 3 (ipykernel)",
   "language": "python",
   "name": "python3"
  },
  "language_info": {
   "codemirror_mode": {
    "name": "ipython",
    "version": 3
   },
   "file_extension": ".py",
   "mimetype": "text/x-python",
   "name": "python",
   "nbconvert_exporter": "python",
   "pygments_lexer": "ipython3",
   "version": "3.10.0"
  }
 },
 "nbformat": 4,
 "nbformat_minor": 5
}
